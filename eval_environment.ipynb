{
 "cells": [
  {
   "cell_type": "markdown",
   "metadata": {},
   "source": [
    "# Evaluation Environment\n",
    "---"
   ]
  },
  {
   "cell_type": "markdown",
   "metadata": {},
   "source": [
    "### Imports"
   ]
  },
  {
   "cell_type": "code",
   "execution_count": null,
   "metadata": {},
   "outputs": [],
   "source": [
    "import sys\n",
    "sys.path.append('/home/student/fbentz/BA_Thesis/src')\n",
    "\n",
    "import pandas as pd\n",
    "from src.cfg import *\n",
    "from src.model_functions import *"
   ]
  },
  {
   "cell_type": "markdown",
   "metadata": {},
   "source": [
    "### Define Data Paths"
   ]
  },
  {
   "cell_type": "code",
   "execution_count": null,
   "metadata": {},
   "outputs": [],
   "source": [
    "train_path = \"/home/student/fbentz/BA_Thesis/data/new/prepared/reduced_train/dem_prep_red_train_1.csv\"\n",
    "eval_path = \"/home/student/fbentz/BA_Thesis/data/new/prepared/test/dem_prep_test_1.csv\""
   ]
  },
  {
   "cell_type": "markdown",
   "metadata": {},
   "source": [
    "#### Read Training Data"
   ]
  },
  {
   "cell_type": "code",
   "execution_count": null,
   "metadata": {},
   "outputs": [],
   "source": [
    "train_features = read_feature_data(train_path, delete=False, size=1000000)\n",
    "train_labels = read_labels_data(train_path, delete=False, size=1000000)"
   ]
  },
  {
   "cell_type": "markdown",
   "metadata": {},
   "source": [
    "#### Read Testing Data"
   ]
  },
  {
   "cell_type": "code",
   "execution_count": null,
   "metadata": {},
   "outputs": [],
   "source": [
    "eval_features = read_feature_data(eval_path, delete=False)\n",
    "eval_labels = read_labels_data(eval_path, delete=False)"
   ]
  },
  {
   "cell_type": "markdown",
   "metadata": {},
   "source": [
    "### Evaluation\n",
    "The functions `multi_eval()` for the \"Implementations ***1 - 3***\" and `multi_eval_nn()` for an \"Expl. Network\" return a DataFrame with the results"
   ]
  },
  {
   "cell_type": "code",
   "execution_count": null,
   "metadata": {},
   "outputs": [],
   "source": [
    "results = multi_eval_nn(1, [train_path, eval_path], unit_list=[31, 25], size=900000)\n",
    "#results = multi_eval(1, [train_path, eval_path], state_n=1, implementation=1, size=900000)\n",
    "\n",
    "results.to_pickle(\"SAVE_PATH\")"
   ]
  }
 ],
 "metadata": {
  "interpreter": {
   "hash": "83130edeb19a53e2871bbda8a88ccec9e6988b970dfc23763da84340b8ddc469"
  },
  "kernelspec": {
   "display_name": "Python 3.7.10 64-bit ('fbentz': conda)",
   "name": "python3"
  },
  "language_info": {
   "codemirror_mode": {
    "name": "ipython",
    "version": 3
   },
   "file_extension": ".py",
   "mimetype": "text/x-python",
   "name": "python",
   "nbconvert_exporter": "python",
   "pygments_lexer": "ipython3",
   "version": "3.7.10"
  },
  "orig_nbformat": 4
 },
 "nbformat": 4,
 "nbformat_minor": 2
}
